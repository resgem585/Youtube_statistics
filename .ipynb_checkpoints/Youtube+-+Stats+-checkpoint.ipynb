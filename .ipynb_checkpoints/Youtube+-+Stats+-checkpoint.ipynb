{
 "cells": [
  {
   "cell_type": "markdown",
   "id": "222eecbd",
   "metadata": {},
   "source": [
    "![cover_images](https://camo.githubusercontent.com/3492e111812ac08200d4acd9a0dce36ff18e22be558865d26aae570f4348996c/68747470733a2f2f6a6f736570686d75636972616578636c7573697665732e636f6d2f77702d636f6e74656e742f75706c6f6164732f323031392f30382f596f75547562652d446174612d4150492d4f766572766965772e6a7067)"
   ]
  },
  {
   "cell_type": "code",
   "execution_count": 4,
   "id": "49cdf648",
   "metadata": {},
   "outputs": [],
   "source": [
    "import pandas as pd\n",
    "import time\n",
    "import requests\n",
    "from bs4 import BeautifulSoup\n",
    "import json\n",
    "import random\n",
    "import time\n",
    "from datetime import datetime\n",
    "import datetime\n",
    "import os\n",
    "import numpy as np \n",
    "#from millify import millify,prettify\n",
    "from tqdm import tqdm\n",
    "\n",
    "import cred"
   ]
  },
  {
   "cell_type": "code",
   "execution_count": 5,
   "id": "8d50c6af",
   "metadata": {},
   "outputs": [],
   "source": [
    "DEVELOPER_KEY = cred.API_KEY"
   ]
  },
  {
   "cell_type": "markdown",
   "id": "deadd212",
   "metadata": {},
   "source": [
    "# Youtube Channel Stats\n",
    "\n",
    "[youtube_url](https://developers.google.com/youtube/v3/docs/channels?hl=es)"
   ]
  },
  {
   "cell_type": "code",
   "execution_count": 6,
   "id": "fee64143",
   "metadata": {},
   "outputs": [],
   "source": [
    "url = \"https://www.youtube.com/channel/UCLXRGxAzeaLDGaOphqapzmg\""
   ]
  },
  {
   "cell_type": "code",
   "execution_count": 7,
   "id": "365b0077",
   "metadata": {},
   "outputs": [
    {
     "data": {
      "text/plain": [
       "{'kind': 'youtube#channelListResponse',\n",
       " 'etag': '2_C9MBVR7oWnCklRYnsknOEfIAQ',\n",
       " 'pageInfo': {'totalResults': 1, 'resultsPerPage': 5},\n",
       " 'items': [{'kind': 'youtube#channel',\n",
       "   'etag': 'aAGu04wEBs2L_bHg6wtljvqdiKI',\n",
       "   'id': 'UCLXRGxAzeaLDGaOphqapzmg',\n",
       "   'statistics': {'viewCount': '97472119',\n",
       "    'subscriberCount': '719000',\n",
       "    'hiddenSubscriberCount': False,\n",
       "    'videoCount': '3188'}}]}"
      ]
     },
     "execution_count": 7,
     "metadata": {},
     "output_type": "execute_result"
    }
   ],
   "source": [
    "CHANNEL_ID = 'UCLXRGxAzeaLDGaOphqapzmg'\n",
    "\n",
    "url_channel_stats = 'https://youtube.googleapis.com/youtube/v3/channels?part=statistics&id='+CHANNEL_ID+'&key='+DEVELOPER_KEY\n",
    "channel_stats = requests.get(url_channel_stats).json()\n",
    "channel_stats"
   ]
  },
  {
   "cell_type": "markdown",
   "id": "c52f7fb6",
   "metadata": {},
   "source": [
    "Obteniendo Fecha Actual"
   ]
  },
  {
   "cell_type": "code",
   "execution_count": 8,
   "id": "f3d291ad",
   "metadata": {},
   "outputs": [
    {
     "data": {
      "text/plain": [
       "{'Created_at': '2023-10-25',\n",
       " 'Total_Views': 97472119,\n",
       " 'Suscribers': 719000,\n",
       " 'Video_count': 3188}"
      ]
     },
     "execution_count": 8,
     "metadata": {},
     "output_type": "execute_result"
    }
   ],
   "source": [
    "channel_stats = channel_stats['items'][0]['statistics']\n",
    "date = pd.to_datetime('today').strftime(\"%Y-%m-%d\")\n",
    "\n",
    "data_channel = {\n",
    "    \n",
    "    'Created_at':date,\n",
    "    'Total_Views':int(float(channel_stats['viewCount'])),\n",
    "    'Suscribers':int(float(channel_stats['subscriberCount'])),\n",
    "    'Video_count':int(float(channel_stats['videoCount'])),\n",
    "    \n",
    "}\n",
    "\n",
    "data_channel"
   ]
  },
  {
   "cell_type": "code",
   "execution_count": 9,
   "id": "8e2082ff",
   "metadata": {},
   "outputs": [
    {
     "data": {
      "text/plain": [
       "719000"
      ]
     },
     "execution_count": 9,
     "metadata": {},
     "output_type": "execute_result"
    }
   ],
   "source": [
    "data_channel['Suscribers']"
   ]
  },
  {
   "cell_type": "markdown",
   "id": "1dfa2fd7",
   "metadata": {},
   "source": [
    "# Functions "
   ]
  },
  {
   "cell_type": "code",
   "execution_count": 21,
   "id": "b4f03986",
   "metadata": {},
   "outputs": [],
   "source": [
    "def get_stats(api_key,channel_id):\n",
    "    \n",
    "    url_channel_stats = 'https://youtube.googleapis.com/youtube/v3/channels?part=statistics&id='+channel_id+'&key='+api_key\n",
    "    channel_stats = requests.get(url_channel_stats).json()\n",
    "    \n",
    "    \n",
    "    channel_stats = channel_stats['items'][0]['statistics']\n",
    "    date = pd.to_datetime('today').strftime(\"%Y-%m-%d\")\n",
    "\n",
    "    data_channel = {\n",
    "\n",
    "        'Created_at':date,\n",
    "        'Total_Views':int(float(channel_stats['viewCount'])),\n",
    "        'Subscribers':int(float(channel_stats['subscriberCount'])),\n",
    "        'Video_count':int(float(channel_stats['videoCount'])),\n",
    "\n",
    "    }\n",
    "    \n",
    "    return data_channel"
   ]
  },
  {
   "cell_type": "code",
   "execution_count": 22,
   "id": "ad42da31",
   "metadata": {},
   "outputs": [
    {
     "data": {
      "text/plain": [
       "{'Created_at': '2023-10-25',\n",
       " 'Total_Views': 97472119,\n",
       " 'Subscribers': 719000,\n",
       " 'Video_count': 3188}"
      ]
     },
     "execution_count": 22,
     "metadata": {},
     "output_type": "execute_result"
    }
   ],
   "source": [
    "get_stats(DEVELOPER_KEY,CHANNEL_ID)"
   ]
  },
  {
   "cell_type": "markdown",
   "id": "097f9123",
   "metadata": {},
   "source": [
    "# Channels to analize"
   ]
  },
  {
   "cell_type": "code",
   "execution_count": 23,
   "id": "29d2cf21",
   "metadata": {},
   "outputs": [],
   "source": [
    "channels_name  =  ['Marciaylanube','Fazt_web','PeladoNerd','Codigofacilito']\n",
    "channels_id  =  ['UCWYUbW_Lw5EQC0WybxInObA','UCoMdktPbSTixAyNGwb-UYkQ','UCrBzBOMcUVV8ryyAU_c6P5g','UCLXRGxAzeaLDGaOphqapzmg']"
   ]
  },
  {
   "cell_type": "code",
   "execution_count": 24,
   "id": "b79a68b2",
   "metadata": {},
   "outputs": [],
   "source": [
    "channels = {\n",
    "    'Channel_name':channels_name,\n",
    "    'Channel_id':channels_id}\n",
    "\n",
    "df_channels = pd.DataFrame(channels)"
   ]
  },
  {
   "cell_type": "code",
   "execution_count": 25,
   "id": "41ea5b20",
   "metadata": {},
   "outputs": [
    {
     "data": {
      "text/html": [
       "<div>\n",
       "<style scoped>\n",
       "    .dataframe tbody tr th:only-of-type {\n",
       "        vertical-align: middle;\n",
       "    }\n",
       "\n",
       "    .dataframe tbody tr th {\n",
       "        vertical-align: top;\n",
       "    }\n",
       "\n",
       "    .dataframe thead th {\n",
       "        text-align: right;\n",
       "    }\n",
       "</style>\n",
       "<table border=\"1\" class=\"dataframe\">\n",
       "  <thead>\n",
       "    <tr style=\"text-align: right;\">\n",
       "      <th></th>\n",
       "      <th>Channel_name</th>\n",
       "      <th>Channel_id</th>\n",
       "    </tr>\n",
       "  </thead>\n",
       "  <tbody>\n",
       "    <tr>\n",
       "      <th>0</th>\n",
       "      <td>Marciaylanube</td>\n",
       "      <td>UCWYUbW_Lw5EQC0WybxInObA</td>\n",
       "    </tr>\n",
       "    <tr>\n",
       "      <th>1</th>\n",
       "      <td>Fazt_web</td>\n",
       "      <td>UCoMdktPbSTixAyNGwb-UYkQ</td>\n",
       "    </tr>\n",
       "    <tr>\n",
       "      <th>2</th>\n",
       "      <td>PeladoNerd</td>\n",
       "      <td>UCrBzBOMcUVV8ryyAU_c6P5g</td>\n",
       "    </tr>\n",
       "    <tr>\n",
       "      <th>3</th>\n",
       "      <td>Codigofacilito</td>\n",
       "      <td>UCLXRGxAzeaLDGaOphqapzmg</td>\n",
       "    </tr>\n",
       "  </tbody>\n",
       "</table>\n",
       "</div>"
      ],
      "text/plain": [
       "     Channel_name                Channel_id\n",
       "0   Marciaylanube  UCWYUbW_Lw5EQC0WybxInObA\n",
       "1        Fazt_web  UCoMdktPbSTixAyNGwb-UYkQ\n",
       "2      PeladoNerd  UCrBzBOMcUVV8ryyAU_c6P5g\n",
       "3  Codigofacilito  UCLXRGxAzeaLDGaOphqapzmg"
      ]
     },
     "execution_count": 25,
     "metadata": {},
     "output_type": "execute_result"
    }
   ],
   "source": [
    "df_channels"
   ]
  },
  {
   "cell_type": "code",
   "execution_count": 26,
   "id": "20cb41c6",
   "metadata": {},
   "outputs": [
    {
     "data": {
      "text/plain": [
       "{'Created_at': '2023-10-25',\n",
       " 'Total_Views': 4368401708,\n",
       " 'Subscribers': 7030000,\n",
       " 'Video_count': 40410}"
      ]
     },
     "execution_count": 26,
     "metadata": {},
     "output_type": "execute_result"
    }
   ],
   "source": [
    "get_stats(DEVELOPER_KEY,df_channels['Channel_id'][1])"
   ]
  },
  {
   "cell_type": "code",
   "execution_count": 27,
   "id": "ca60f987",
   "metadata": {},
   "outputs": [],
   "source": [
    "import pandas as pd\n",
    "import random\n",
    "from tqdm import tqdm  # Importa tqdm para mostrar una barra de progreso\n",
    "from datetime import datetime\n",
    "import time\n",
    "\n",
    "# Define una función para obtener estadísticas de canales\n",
    "def channel_stats(df, api_key):\n",
    "    # Inicializa listas para almacenar datos\n",
    "    date = []\n",
    "    views = []\n",
    "    subscribers = []\n",
    "    video_count = []\n",
    "    channel_name = []\n",
    "    \n",
    "    # Lista de tiempos de espera aleatorios\n",
    "    tiempo = [1, 2.5, 3, 2]\n",
    "\n",
    "    # Itera a través de los canales utilizando tqdm para mostrar una barra de progreso\n",
    "    for i in tqdm(range(len(df)), colour='green'):\n",
    "        # Obtiene las estadísticas del canal llamando a la función get_stats\n",
    "        stats_temp = get_stats(api_key, df['Channel_id'][i])\n",
    "        \n",
    "        # Almacena los datos en las listas\n",
    "        date.append(stats_temp['Created_at'])\n",
    "        views.append(stats_temp['Total_Views'])\n",
    "        subscribers.append(stats_temp['Subscribers'])\n",
    "        video_count.append(stats_temp['Video_count'])\n",
    "        channel_name.append(df['Channel_name'][i])\n",
    "        \n",
    "        # Realiza una pausa aleatoria antes de la siguiente solicitud\n",
    "        time.sleep(random.choice(tiempo))\n",
    "    \n",
    "    # Crea un diccionario con los datos recopilados\n",
    "    data = {\n",
    "        'Channel_name': channel_name,\n",
    "        'Subscribers': subscribers,\n",
    "        'Video_Count': video_count,\n",
    "        'Total_Views': views,\n",
    "        'Created_at': date,  # Corregido el nombre de la columna para que coincida\n",
    "    }\n",
    "    \n",
    "    # Crea un DataFrame a partir del diccionario\n",
    "    df_channels_final = pd.DataFrame(data)\n",
    "    \n",
    "    return df_channels_final"
   ]
  },
  {
   "cell_type": "code",
   "execution_count": 28,
   "id": "cc355470",
   "metadata": {},
   "outputs": [
    {
     "name": "stderr",
     "output_type": "stream",
     "text": [
      "100%|\u001b[32m████████████████████████████████████████████████████████████████████████████████████\u001b[0m| 4/4 [00:08<00:00,  2.05s/it]\u001b[0m\n"
     ]
    },
    {
     "data": {
      "text/html": [
       "<div>\n",
       "<style scoped>\n",
       "    .dataframe tbody tr th:only-of-type {\n",
       "        vertical-align: middle;\n",
       "    }\n",
       "\n",
       "    .dataframe tbody tr th {\n",
       "        vertical-align: top;\n",
       "    }\n",
       "\n",
       "    .dataframe thead th {\n",
       "        text-align: right;\n",
       "    }\n",
       "</style>\n",
       "<table border=\"1\" class=\"dataframe\">\n",
       "  <thead>\n",
       "    <tr style=\"text-align: right;\">\n",
       "      <th></th>\n",
       "      <th>Channel_name</th>\n",
       "      <th>Subscribers</th>\n",
       "      <th>Video_Count</th>\n",
       "      <th>Total_Views</th>\n",
       "      <th>Created_at</th>\n",
       "    </tr>\n",
       "  </thead>\n",
       "  <tbody>\n",
       "    <tr>\n",
       "      <th>0</th>\n",
       "      <td>Marciaylanube</td>\n",
       "      <td>11100</td>\n",
       "      <td>115</td>\n",
       "      <td>315854</td>\n",
       "      <td>2023-10-25</td>\n",
       "    </tr>\n",
       "    <tr>\n",
       "      <th>1</th>\n",
       "      <td>Fazt_web</td>\n",
       "      <td>7030000</td>\n",
       "      <td>40410</td>\n",
       "      <td>4368401708</td>\n",
       "      <td>2023-10-25</td>\n",
       "    </tr>\n",
       "    <tr>\n",
       "      <th>2</th>\n",
       "      <td>PeladoNerd</td>\n",
       "      <td>154000</td>\n",
       "      <td>339</td>\n",
       "      <td>10276887</td>\n",
       "      <td>2023-10-25</td>\n",
       "    </tr>\n",
       "    <tr>\n",
       "      <th>3</th>\n",
       "      <td>Codigofacilito</td>\n",
       "      <td>719000</td>\n",
       "      <td>3188</td>\n",
       "      <td>97472119</td>\n",
       "      <td>2023-10-25</td>\n",
       "    </tr>\n",
       "  </tbody>\n",
       "</table>\n",
       "</div>"
      ],
      "text/plain": [
       "     Channel_name  Subscribers  Video_Count  Total_Views  Created_at\n",
       "0   Marciaylanube        11100          115       315854  2023-10-25\n",
       "1        Fazt_web      7030000        40410   4368401708  2023-10-25\n",
       "2      PeladoNerd       154000          339     10276887  2023-10-25\n",
       "3  Codigofacilito       719000         3188     97472119  2023-10-25"
      ]
     },
     "execution_count": 28,
     "metadata": {},
     "output_type": "execute_result"
    }
   ],
   "source": [
    "channel_stats(df_channels,DEVELOPER_KEY)"
   ]
  },
  {
   "cell_type": "code",
   "execution_count": null,
   "id": "d8b8b687",
   "metadata": {},
   "outputs": [],
   "source": []
  },
  {
   "cell_type": "code",
   "execution_count": 20,
   "id": "4c6b1e26",
   "metadata": {},
   "outputs": [
    {
     "ename": "NameError",
     "evalue": "name 'millify' is not defined",
     "output_type": "error",
     "traceback": [
      "\u001b[1;31m---------------------------------------------------------------------------\u001b[0m",
      "\u001b[1;31mNameError\u001b[0m                                 Traceback (most recent call last)",
      "\u001b[1;32m~\\AppData\\Local\\Temp\\ipykernel_9400\\284594861.py\u001b[0m in \u001b[0;36m<module>\u001b[1;34m\u001b[0m\n\u001b[1;32m----> 1\u001b[1;33m \u001b[0mmillify\u001b[0m\u001b[1;33m(\u001b[0m\u001b[0mchannel_stats\u001b[0m\u001b[1;33m[\u001b[0m\u001b[1;34m'subscriberCount'\u001b[0m\u001b[1;33m]\u001b[0m\u001b[1;33m,\u001b[0m\u001b[1;36m2\u001b[0m\u001b[1;33m)\u001b[0m\u001b[1;33m\u001b[0m\u001b[1;33m\u001b[0m\u001b[0m\n\u001b[0m",
      "\u001b[1;31mNameError\u001b[0m: name 'millify' is not defined"
     ]
    }
   ],
   "source": [
    "millify(channel_stats['subscriberCount'],2)"
   ]
  },
  {
   "cell_type": "code",
   "execution_count": 16,
   "id": "eec62817",
   "metadata": {},
   "outputs": [
    {
     "data": {
      "text/plain": [
       "'3.07k'"
      ]
     },
     "execution_count": 16,
     "metadata": {},
     "output_type": "execute_result"
    }
   ],
   "source": [
    "millify(channel_stats['videoCount'],2)"
   ]
  },
  {
   "cell_type": "code",
   "execution_count": 17,
   "id": "a2021efc",
   "metadata": {},
   "outputs": [
    {
     "data": {
      "text/plain": [
       "'97.97M'"
      ]
     },
     "execution_count": 17,
     "metadata": {},
     "output_type": "execute_result"
    }
   ],
   "source": [
    "millify(channel_stats['viewCount'],2)"
   ]
  }
 ],
 "metadata": {
  "kernelspec": {
   "display_name": "Python 3 (ipykernel)",
   "language": "python",
   "name": "python3"
  },
  "language_info": {
   "codemirror_mode": {
    "name": "ipython",
    "version": 3
   },
   "file_extension": ".py",
   "mimetype": "text/x-python",
   "name": "python",
   "nbconvert_exporter": "python",
   "pygments_lexer": "ipython3",
   "version": "3.9.13"
  }
 },
 "nbformat": 4,
 "nbformat_minor": 5
}
